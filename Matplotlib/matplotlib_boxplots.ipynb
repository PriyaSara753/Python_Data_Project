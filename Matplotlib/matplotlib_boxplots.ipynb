{
 "cells": [
  {
   "cell_type": "code",
   "execution_count": 1,
   "metadata": {},
   "outputs": [],
   "source": [
    "import pandas as pd\n",
    "import matplotlib.pyplot as plt\n",
    "import ast"
   ]
  },
  {
   "cell_type": "code",
   "execution_count": 2,
   "metadata": {},
   "outputs": [],
   "source": [
    "df=pd.read_csv(r\"F:\\Jupyter\\data_jobs.csv\")\n",
    "df[\"job_posted_date\"]=pd.to_datetime(df[\"job_posted_date\"])\n",
    "df['job_skills'] = df['job_skills'].apply(lambda x: ast.literal_eval(x) if pd.notna(x) else x)"
   ]
  },
  {
   "cell_type": "code",
   "execution_count": 3,
   "metadata": {},
   "outputs": [],
   "source": [
    "df_DA_US = df[(df['job_title_short'] == 'Data Analyst') & (df['job_country'] == 'United States')].copy()"
   ]
  },
  {
   "cell_type": "code",
   "execution_count": 4,
   "metadata": {},
   "outputs": [],
   "source": [
    "#Drop Nan values before plotting\n",
    "\n",
    "df_DA_US = df_DA_US.dropna(subset=['salary_year_avg'])"
   ]
  },
  {
   "cell_type": "code",
   "execution_count": 5,
   "metadata": {},
   "outputs": [
    {
     "data": {
      "text/plain": [
       "312025     81047.000000\n",
       "304941    115000.000000\n",
       "211169     61250.000000\n",
       "731732     51362.640625\n",
       "307041    150000.000000\n",
       "189136     67500.000000\n",
       "516947    108500.000000\n",
       "168214     90000.000000\n",
       "377892     45000.000000\n",
       "722380     51082.800781\n",
       "Name: salary_year_avg, dtype: float64"
      ]
     },
     "execution_count": 5,
     "metadata": {},
     "output_type": "execute_result"
    }
   ],
   "source": [
    "df_DA_US['salary_year_avg'].sample(10)"
   ]
  },
  {
   "cell_type": "code",
   "execution_count": 6,
   "metadata": {},
   "outputs": [
    {
     "data": {
      "text/plain": [
       "<Axes: >"
      ]
     },
     "execution_count": 6,
     "metadata": {},
     "output_type": "execute_result"
    },
    {
     "data": {
      "image/png": "[encoded data removed]",
      "text/plain": [
       "<Figure size 640x480 with 1 Axes>"
      ]
     },
     "metadata": {},
     "output_type": "display_data"
    }
   ],
   "source": [
    "#Plotting simple boxplot \n",
    "df_DA_US['salary_year_avg'].plot(kind='box')"
   ]
  },
  {
   "cell_type": "code",
   "execution_count": 13,
   "metadata": {},
   "outputs": [
    {
     "data": {
      "image/png": "[encoded data removed]",
      "text/plain": [
       "<Figure size 640x480 with 1 Axes>"
      ]
     },
     "metadata": {},
     "output_type": "display_data"
    }
   ],
   "source": [
    "#Matplotlib way of plotting\n",
    "\n",
    "plt.boxplot(df_DA_US['salary_year_avg'],vert=False)\n",
    "plt.show()\n"
   ]
  },
  {
   "cell_type": "code",
   "execution_count": 14,
   "metadata": {},
   "outputs": [],
   "source": [
    "#Now we are gonna compare salaries for different job titles in US"
   ]
  },
  {
   "cell_type": "code",
   "execution_count": 15,
   "metadata": {},
   "outputs": [],
   "source": [
    "job_titles = ['Data Analyst' , 'Data Scientist', 'Data Engineer']\n",
    "\n",
    "df_US = df[(df['job_title_short'].isin(job_titles) ) & (df['job_country'] == 'United States')].copy()"
   ]
  },
  {
   "cell_type": "code",
   "execution_count": 16,
   "metadata": {},
   "outputs": [
    {
     "data": {
      "text/plain": [
       "job_title_short\n",
       "Data Analyst      67816\n",
       "Data Scientist    58830\n",
       "Data Engineer     35080\n",
       "Name: count, dtype: int64"
      ]
     },
     "execution_count": 16,
     "metadata": {},
     "output_type": "execute_result"
    }
   ],
   "source": [
    "df_US['job_title_short'].value_counts()"
   ]
  },
  {
   "cell_type": "code",
   "execution_count": 17,
   "metadata": {},
   "outputs": [
    {
     "data": {
      "text/plain": [
       "job_title_short\n",
       "Data Scientist    4553\n",
       "Data Analyst      4350\n",
       "Data Engineer     2915\n",
       "Name: count, dtype: int64"
      ]
     },
     "execution_count": 17,
     "metadata": {},
     "output_type": "execute_result"
    }
   ],
   "source": [
    "#we have lots of Nan values in salary year avg column.Drop it\n",
    "\n",
    "df_US=df_US.dropna(subset=['salary_year_avg'])\n",
    "df_US['job_title_short'].value_counts()"
   ]
  },
  {
   "cell_type": "code",
   "execution_count": 18,
   "metadata": {},
   "outputs": [
    {
     "data": {
      "text/html": [
       "<div>\n",
       "<style scoped>\n",
       "    .dataframe tbody tr th:only-of-type {\n",
       "        vertical-align: middle;\n",
       "    }\n",
       "\n",
       "    .dataframe tbody tr th {\n",
       "        vertical-align: top;\n",
       "    }\n",
       "\n",
       "    .dataframe thead th {\n",
       "        text-align: right;\n",
       "    }\n",
       "</style>\n",
       "<table border=\"1\" class=\"dataframe\">\n",
       "  <thead>\n",
       "    <tr style=\"text-align: right;\">\n",
       "      <th></th>\n",
       "      <th>job_title_short</th>\n",
       "      <th>job_title</th>\n",
       "      <th>job_location</th>\n",
       "      <th>job_via</th>\n",
       "      <th>job_schedule_type</th>\n",
       "      <th>job_work_from_home</th>\n",
       "      <th>search_location</th>\n",
       "      <th>job_posted_date</th>\n",
       "      <th>job_no_degree_mention</th>\n",
       "      <th>job_health_insurance</th>\n",
       "      <th>job_country</th>\n",
       "      <th>salary_rate</th>\n",
       "      <th>salary_year_avg</th>\n",
       "      <th>salary_hour_avg</th>\n",
       "      <th>company_name</th>\n",
       "      <th>job_skills</th>\n",
       "      <th>job_type_skills</th>\n",
       "    </tr>\n",
       "  </thead>\n",
       "  <tbody>\n",
       "    <tr>\n",
       "      <th>92</th>\n",
       "      <td>Data Engineer</td>\n",
       "      <td>Remote - Data Engineer - Permanent - W2</td>\n",
       "      <td>Anywhere</td>\n",
       "      <td>via LinkedIn</td>\n",
       "      <td>Full-time</td>\n",
       "      <td>True</td>\n",
       "      <td>Illinois, United States</td>\n",
       "      <td>2023-02-21 13:29:59</td>\n",
       "      <td>False</td>\n",
       "      <td>True</td>\n",
       "      <td>United States</td>\n",
       "      <td>year</td>\n",
       "      <td>120000.0</td>\n",
       "      <td>NaN</td>\n",
       "      <td>Apex Systems</td>\n",
       "      <td>[sql, python]</td>\n",
       "      <td>{'programming': ['sql', 'python']}</td>\n",
       "    </tr>\n",
       "    <tr>\n",
       "      <th>100</th>\n",
       "      <td>Data Scientist</td>\n",
       "      <td>Data Scientist, Risk Data Mining - USDS</td>\n",
       "      <td>Mountain View, CA</td>\n",
       "      <td>via LinkedIn</td>\n",
       "      <td>Full-time</td>\n",
       "      <td>False</td>\n",
       "      <td>California, United States</td>\n",
       "      <td>2023-07-31 13:01:18</td>\n",
       "      <td>False</td>\n",
       "      <td>True</td>\n",
       "      <td>United States</td>\n",
       "      <td>year</td>\n",
       "      <td>228222.0</td>\n",
       "      <td>NaN</td>\n",
       "      <td>TikTok</td>\n",
       "      <td>[sql, r, python, express]</td>\n",
       "      <td>{'programming': ['sql', 'r', 'python'], 'webfr...</td>\n",
       "    </tr>\n",
       "    <tr>\n",
       "      <th>109</th>\n",
       "      <td>Data Analyst</td>\n",
       "      <td>Senior Supply Chain Analytics Analyst</td>\n",
       "      <td>Anywhere</td>\n",
       "      <td>via Get.It</td>\n",
       "      <td>Full-time</td>\n",
       "      <td>True</td>\n",
       "      <td>Illinois, United States</td>\n",
       "      <td>2023-10-12 13:02:19</td>\n",
       "      <td>False</td>\n",
       "      <td>True</td>\n",
       "      <td>United States</td>\n",
       "      <td>year</td>\n",
       "      <td>89000.0</td>\n",
       "      <td>NaN</td>\n",
       "      <td>Get It Recruit - Transportation</td>\n",
       "      <td>[python, r, alteryx, tableau]</td>\n",
       "      <td>{'analyst_tools': ['alteryx', 'tableau'], 'pro...</td>\n",
       "    </tr>\n",
       "    <tr>\n",
       "      <th>116</th>\n",
       "      <td>Data Scientist</td>\n",
       "      <td>Data Scientist</td>\n",
       "      <td>Anywhere</td>\n",
       "      <td>via LinkedIn</td>\n",
       "      <td>Full-time</td>\n",
       "      <td>True</td>\n",
       "      <td>Texas, United States</td>\n",
       "      <td>2023-10-04 13:04:23</td>\n",
       "      <td>False</td>\n",
       "      <td>False</td>\n",
       "      <td>United States</td>\n",
       "      <td>year</td>\n",
       "      <td>114000.0</td>\n",
       "      <td>NaN</td>\n",
       "      <td>4 Corner Resources</td>\n",
       "      <td>[r, python, sql, t-sql, hadoop, spark, tableau]</td>\n",
       "      <td>{'analyst_tools': ['tableau'], 'libraries': ['...</td>\n",
       "    </tr>\n",
       "    <tr>\n",
       "      <th>146</th>\n",
       "      <td>Data Engineer</td>\n",
       "      <td>Data Engineer Graduate (Real Time Communicatio...</td>\n",
       "      <td>Seattle, WA</td>\n",
       "      <td>via LinkedIn</td>\n",
       "      <td>Full-time</td>\n",
       "      <td>False</td>\n",
       "      <td>California, United States</td>\n",
       "      <td>2023-10-21 13:06:16</td>\n",
       "      <td>False</td>\n",
       "      <td>True</td>\n",
       "      <td>United States</td>\n",
       "      <td>year</td>\n",
       "      <td>129500.0</td>\n",
       "      <td>NaN</td>\n",
       "      <td>ByteDance</td>\n",
       "      <td>[golang, scala, python, java, hadoop, spark]</td>\n",
       "      <td>{'libraries': ['hadoop', 'spark'], 'programmin...</td>\n",
       "    </tr>\n",
       "    <tr>\n",
       "      <th>...</th>\n",
       "      <td>...</td>\n",
       "      <td>...</td>\n",
       "      <td>...</td>\n",
       "      <td>...</td>\n",
       "      <td>...</td>\n",
       "      <td>...</td>\n",
       "      <td>...</td>\n",
       "      <td>...</td>\n",
       "      <td>...</td>\n",
       "      <td>...</td>\n",
       "      <td>...</td>\n",
       "      <td>...</td>\n",
       "      <td>...</td>\n",
       "      <td>...</td>\n",
       "      <td>...</td>\n",
       "      <td>...</td>\n",
       "      <td>...</td>\n",
       "    </tr>\n",
       "    <tr>\n",
       "      <th>785563</th>\n",
       "      <td>Data Scientist</td>\n",
       "      <td>Data Scientist I/II (Model Risk Management &amp; M...</td>\n",
       "      <td>Pensacola, FL</td>\n",
       "      <td>via Navy Federal Credit Union - Talentify</td>\n",
       "      <td>Full-time</td>\n",
       "      <td>False</td>\n",
       "      <td>Florida, United States</td>\n",
       "      <td>2023-01-11 06:22:10</td>\n",
       "      <td>False</td>\n",
       "      <td>False</td>\n",
       "      <td>United States</td>\n",
       "      <td>year</td>\n",
       "      <td>136400.0</td>\n",
       "      <td>NaN</td>\n",
       "      <td>Navy Federal Credit Union</td>\n",
       "      <td>[r, python, matplotlib, ggplot2, spark, word, ...</td>\n",
       "      <td>{'analyst_tools': ['word', 'power bi', 'tablea...</td>\n",
       "    </tr>\n",
       "    <tr>\n",
       "      <th>785624</th>\n",
       "      <td>Data Engineer</td>\n",
       "      <td>Data Analytics Engineer (Hybrid)</td>\n",
       "      <td>Mt Prospect, IL</td>\n",
       "      <td>via Ai-Jobs.net</td>\n",
       "      <td>Full-time</td>\n",
       "      <td>False</td>\n",
       "      <td>Illinois, United States</td>\n",
       "      <td>2023-08-31 06:02:16</td>\n",
       "      <td>False</td>\n",
       "      <td>True</td>\n",
       "      <td>United States</td>\n",
       "      <td>year</td>\n",
       "      <td>139216.0</td>\n",
       "      <td>NaN</td>\n",
       "      <td>Bosch Group</td>\n",
       "      <td>[go, python, r, sql, oracle, windows, alteryx,...</td>\n",
       "      <td>{'analyst_tools': ['alteryx', 'power bi', 'tab...</td>\n",
       "    </tr>\n",
       "    <tr>\n",
       "      <th>785641</th>\n",
       "      <td>Data Engineer</td>\n",
       "      <td>Data Engineer</td>\n",
       "      <td>New York, NY</td>\n",
       "      <td>via Dice</td>\n",
       "      <td>Full-time</td>\n",
       "      <td>False</td>\n",
       "      <td>Georgia</td>\n",
       "      <td>2023-01-04 16:36:07</td>\n",
       "      <td>True</td>\n",
       "      <td>False</td>\n",
       "      <td>United States</td>\n",
       "      <td>year</td>\n",
       "      <td>150000.0</td>\n",
       "      <td>NaN</td>\n",
       "      <td>Engage Partners, Inc.</td>\n",
       "      <td>NaN</td>\n",
       "      <td>NaN</td>\n",
       "    </tr>\n",
       "    <tr>\n",
       "      <th>785648</th>\n",
       "      <td>Data Scientist</td>\n",
       "      <td>Director Data Scientist - Commercial Platforms...</td>\n",
       "      <td>Pleasant Hill, CA</td>\n",
       "      <td>via Ai-Jobs.net</td>\n",
       "      <td>Full-time</td>\n",
       "      <td>False</td>\n",
       "      <td>California, United States</td>\n",
       "      <td>2023-04-12 06:02:51</td>\n",
       "      <td>False</td>\n",
       "      <td>True</td>\n",
       "      <td>United States</td>\n",
       "      <td>year</td>\n",
       "      <td>221875.0</td>\n",
       "      <td>NaN</td>\n",
       "      <td>84.51°</td>\n",
       "      <td>[python, azure, snowflake, spark]</td>\n",
       "      <td>{'cloud': ['azure', 'snowflake'], 'libraries':...</td>\n",
       "    </tr>\n",
       "    <tr>\n",
       "      <th>785692</th>\n",
       "      <td>Data Scientist</td>\n",
       "      <td>Data Scientist- Hybrid Work Location</td>\n",
       "      <td>Dayton, OH</td>\n",
       "      <td>via Ai-Jobs.net</td>\n",
       "      <td>Full-time</td>\n",
       "      <td>False</td>\n",
       "      <td>Illinois, United States</td>\n",
       "      <td>2023-04-21 06:02:31</td>\n",
       "      <td>False</td>\n",
       "      <td>True</td>\n",
       "      <td>United States</td>\n",
       "      <td>year</td>\n",
       "      <td>157500.0</td>\n",
       "      <td>NaN</td>\n",
       "      <td>Tenet3</td>\n",
       "      <td>[python, matlab, r]</td>\n",
       "      <td>{'programming': ['python', 'matlab', 'r']}</td>\n",
       "    </tr>\n",
       "  </tbody>\n",
       "</table>\n",
       "<p>11818 rows × 17 columns</p>\n",
       "</div>"
      ],
      "text/plain": [
       "       job_title_short                                          job_title  \\\n",
       "92       Data Engineer            Remote - Data Engineer - Permanent - W2   \n",
       "100     Data Scientist            Data Scientist, Risk Data Mining - USDS   \n",
       "109       Data Analyst              Senior Supply Chain Analytics Analyst   \n",
       "116     Data Scientist                                     Data Scientist   \n",
       "146      Data Engineer  Data Engineer Graduate (Real Time Communicatio...   \n",
       "...                ...                                                ...   \n",
       "785563  Data Scientist  Data Scientist I/II (Model Risk Management & M...   \n",
       "785624   Data Engineer                   Data Analytics Engineer (Hybrid)   \n",
       "785641   Data Engineer                                      Data Engineer   \n",
       "785648  Data Scientist  Director Data Scientist - Commercial Platforms...   \n",
       "785692  Data Scientist               Data Scientist- Hybrid Work Location   \n",
       "\n",
       "             job_location                                    job_via  \\\n",
       "92               Anywhere                               via LinkedIn   \n",
       "100     Mountain View, CA                               via LinkedIn   \n",
       "109              Anywhere                                 via Get.It   \n",
       "116              Anywhere                               via LinkedIn   \n",
       "146           Seattle, WA                               via LinkedIn   \n",
       "...                   ...                                        ...   \n",
       "785563      Pensacola, FL  via Navy Federal Credit Union - Talentify   \n",
       "785624    Mt Prospect, IL                            via Ai-Jobs.net   \n",
       "785641       New York, NY                                   via Dice   \n",
       "785648  Pleasant Hill, CA                            via Ai-Jobs.net   \n",
       "785692         Dayton, OH                            via Ai-Jobs.net   \n",
       "\n",
       "       job_schedule_type  job_work_from_home            search_location  \\\n",
       "92             Full-time                True    Illinois, United States   \n",
       "100            Full-time               False  California, United States   \n",
       "109            Full-time                True    Illinois, United States   \n",
       "116            Full-time                True       Texas, United States   \n",
       "146            Full-time               False  California, United States   \n",
       "...                  ...                 ...                        ...   \n",
       "785563         Full-time               False     Florida, United States   \n",
       "785624         Full-time               False    Illinois, United States   \n",
       "785641         Full-time               False                    Georgia   \n",
       "785648         Full-time               False  California, United States   \n",
       "785692         Full-time               False    Illinois, United States   \n",
       "\n",
       "           job_posted_date  job_no_degree_mention  job_health_insurance  \\\n",
       "92     2023-02-21 13:29:59                  False                  True   \n",
       "100    2023-07-31 13:01:18                  False                  True   \n",
       "109    2023-10-12 13:02:19                  False                  True   \n",
       "116    2023-10-04 13:04:23                  False                 False   \n",
       "146    2023-10-21 13:06:16                  False                  True   \n",
       "...                    ...                    ...                   ...   \n",
       "785563 2023-01-11 06:22:10                  False                 False   \n",
       "785624 2023-08-31 06:02:16                  False                  True   \n",
       "785641 2023-01-04 16:36:07                   True                 False   \n",
       "785648 2023-04-12 06:02:51                  False                  True   \n",
       "785692 2023-04-21 06:02:31                  False                  True   \n",
       "\n",
       "          job_country salary_rate  salary_year_avg  salary_hour_avg  \\\n",
       "92      United States        year         120000.0              NaN   \n",
       "100     United States        year         228222.0              NaN   \n",
       "109     United States        year          89000.0              NaN   \n",
       "116     United States        year         114000.0              NaN   \n",
       "146     United States        year         129500.0              NaN   \n",
       "...               ...         ...              ...              ...   \n",
       "785563  United States        year         136400.0              NaN   \n",
       "785624  United States        year         139216.0              NaN   \n",
       "785641  United States        year         150000.0              NaN   \n",
       "785648  United States        year         221875.0              NaN   \n",
       "785692  United States        year         157500.0              NaN   \n",
       "\n",
       "                           company_name  \\\n",
       "92                         Apex Systems   \n",
       "100                              TikTok   \n",
       "109     Get It Recruit - Transportation   \n",
       "116                  4 Corner Resources   \n",
       "146                           ByteDance   \n",
       "...                                 ...   \n",
       "785563        Navy Federal Credit Union   \n",
       "785624                      Bosch Group   \n",
       "785641            Engage Partners, Inc.   \n",
       "785648                           84.51°   \n",
       "785692                           Tenet3   \n",
       "\n",
       "                                               job_skills  \\\n",
       "92                                          [sql, python]   \n",
       "100                             [sql, r, python, express]   \n",
       "109                         [python, r, alteryx, tableau]   \n",
       "116       [r, python, sql, t-sql, hadoop, spark, tableau]   \n",
       "146          [golang, scala, python, java, hadoop, spark]   \n",
       "...                                                   ...   \n",
       "785563  [r, python, matplotlib, ggplot2, spark, word, ...   \n",
       "785624  [go, python, r, sql, oracle, windows, alteryx,...   \n",
       "785641                                                NaN   \n",
       "785648                  [python, azure, snowflake, spark]   \n",
       "785692                                [python, matlab, r]   \n",
       "\n",
       "                                          job_type_skills  \n",
       "92                     {'programming': ['sql', 'python']}  \n",
       "100     {'programming': ['sql', 'r', 'python'], 'webfr...  \n",
       "109     {'analyst_tools': ['alteryx', 'tableau'], 'pro...  \n",
       "116     {'analyst_tools': ['tableau'], 'libraries': ['...  \n",
       "146     {'libraries': ['hadoop', 'spark'], 'programmin...  \n",
       "...                                                   ...  \n",
       "785563  {'analyst_tools': ['word', 'power bi', 'tablea...  \n",
       "785624  {'analyst_tools': ['alteryx', 'power bi', 'tab...  \n",
       "785641                                                NaN  \n",
       "785648  {'cloud': ['azure', 'snowflake'], 'libraries':...  \n",
       "785692         {'programming': ['python', 'matlab', 'r']}  \n",
       "\n",
       "[11818 rows x 17 columns]"
      ]
     },
     "execution_count": 18,
     "metadata": {},
     "output_type": "execute_result"
    }
   ],
   "source": [
    "#Now we only have ['Data Analyst' , 'Data Scientist', 'Data Engineer'] columns with salaries\n",
    "\n",
    "df_US"
   ]
  },
  {
   "cell_type": "code",
   "execution_count": 19,
   "metadata": {},
   "outputs": [
    {
     "data": {
      "text/plain": [
       "[109        89000.0\n",
       " 180        90250.0\n",
       " 410       133285.0\n",
       " 988        62623.0\n",
       " 1413       71300.0\n",
       "             ...   \n",
       " 782637     70000.0\n",
       " 782798    111175.0\n",
       " 783588    125000.0\n",
       " 783866    115000.0\n",
       " 784882     87500.0\n",
       " Name: salary_year_avg, Length: 4350, dtype: float64,\n",
       " 100       228222.0\n",
       " 116       114000.0\n",
       " 257       103128.0\n",
       " 450       157500.0\n",
       " 1257       70700.0\n",
       "             ...   \n",
       " 785324    234500.0\n",
       " 785488    115000.0\n",
       " 785563    136400.0\n",
       " 785648    221875.0\n",
       " 785692    157500.0\n",
       " Name: salary_year_avg, Length: 4553, dtype: float64,\n",
       " 92        120000.0\n",
       " 146       129500.0\n",
       " 307       185000.0\n",
       " 339       195000.0\n",
       " 380        97500.0\n",
       "             ...   \n",
       " 783111    125000.0\n",
       " 784102     90000.0\n",
       " 784191    217500.0\n",
       " 785624    139216.0\n",
       " 785641    150000.0\n",
       " Name: salary_year_avg, Length: 2915, dtype: float64]"
      ]
     },
     "execution_count": 19,
     "metadata": {},
     "output_type": "execute_result"
    }
   ],
   "source": [
    "job_list = [df_US[df_US['job_title_short'] == job_title]['salary_year_avg']    for job_title in job_titles]\n",
    "job_list"
   ]
  },
  {
   "cell_type": "code",
   "execution_count": 23,
   "metadata": {},
   "outputs": [
    {
     "data": {
      "image/png": "[encoded data removed]",
      "text/plain": [
       "<Figure size 640x480 with 1 Axes>"
      ]
     },
     "metadata": {},
     "output_type": "display_data"
    }
   ],
   "source": [
    "job_list = [df_US[df_US['job_title_short'] == job_title]['salary_year_avg']    for job_title in job_titles]\n",
    "\n",
    "plt.boxplot(job_list,labels=job_titles,vert=False)\n",
    "plt.title('Salary distribution in the United States')\n",
    "plt.xlabel('Yearly Salary ($USD)')\n",
    "ax = plt.gca()\n",
    "ax.xaxis.set_major_formatter(plt.FuncFormatter(lambda x,_:f'${int(x/1000)}K'))\n",
    "plt.xlim(0,600000)\n",
    "plt.show()"
   ]
  }
 ],
 "metadata": {
  "kernelspec": {
   "display_name": "Python 3",
   "language": "python",
   "name": "python3"
  },
  "language_info": {
   "codemirror_mode": {
    "name": "ipython",
    "version": 3
   },
   "file_extension": ".py",
   "mimetype": "text/x-python",
   "name": "python",
   "nbconvert_exporter": "python",
   "pygments_lexer": "ipython3",
   "version": "3.12.4"
  }
 },
 "nbformat": 4,
 "nbformat_minor": 2
}
