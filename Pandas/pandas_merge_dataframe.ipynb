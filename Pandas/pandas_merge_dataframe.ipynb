{
 "cells": [
  {
   "cell_type": "code",
   "execution_count": 1,
   "metadata": {},
   "outputs": [],
   "source": [
    "import pandas as pd\n",
    "import matplotlib.pyplot as plt"
   ]
  },
  {
   "cell_type": "code",
   "execution_count": 2,
   "metadata": {},
   "outputs": [],
   "source": [
    "df=pd.read_csv(r\"F:\\Jupyter\\data_jobs.csv\")\n",
    "df[\"job_posted_date\"]=pd.to_datetime(df[\"job_posted_date\"])"
   ]
  },
  {
   "cell_type": "code",
   "execution_count": 9,
   "metadata": {},
   "outputs": [
    {
     "name": "stderr",
     "output_type": "stream",
     "text": [
      "<>:1: SyntaxWarning: invalid escape sequence '\\J'\n",
      "<>:1: SyntaxWarning: invalid escape sequence '\\J'\n",
      "C:\\Users\\HP\\AppData\\Local\\Temp\\ipykernel_12612\\1057041173.py:1: SyntaxWarning: invalid escape sequence '\\J'\n",
      "  df_us_software_pivot=pd.read_csv(\"F:\\Jupyter\\software_jobs.csv\",index_col='job_posted_month')\n"
     ]
    },
    {
     "data": {
      "text/html": [
       "<div>\n",
       "<style scoped>\n",
       "    .dataframe tbody tr th:only-of-type {\n",
       "        vertical-align: middle;\n",
       "    }\n",
       "\n",
       "    .dataframe tbody tr th {\n",
       "        vertical-align: top;\n",
       "    }\n",
       "\n",
       "    .dataframe thead th {\n",
       "        text-align: right;\n",
       "    }\n",
       "</style>\n",
       "<table border=\"1\" class=\"dataframe\">\n",
       "  <thead>\n",
       "    <tr style=\"text-align: right;\">\n",
       "      <th></th>\n",
       "      <th>Front-End Developer</th>\n",
       "      <th>Back-End Developer</th>\n",
       "      <th>Full-Stack Developer</th>\n",
       "      <th>UI/UX Designer</th>\n",
       "    </tr>\n",
       "    <tr>\n",
       "      <th>job_posted_month</th>\n",
       "      <th></th>\n",
       "      <th></th>\n",
       "      <th></th>\n",
       "      <th></th>\n",
       "    </tr>\n",
       "  </thead>\n",
       "  <tbody>\n",
       "    <tr>\n",
       "      <th>January</th>\n",
       "      <td>13619</td>\n",
       "      <td>9827</td>\n",
       "      <td>5108</td>\n",
       "      <td>4348</td>\n",
       "    </tr>\n",
       "    <tr>\n",
       "      <th>February</th>\n",
       "      <td>11456</td>\n",
       "      <td>9116</td>\n",
       "      <td>7298</td>\n",
       "      <td>4284</td>\n",
       "    </tr>\n",
       "    <tr>\n",
       "      <th>March</th>\n",
       "      <td>11102</td>\n",
       "      <td>8178</td>\n",
       "      <td>5814</td>\n",
       "      <td>4159</td>\n",
       "    </tr>\n",
       "    <tr>\n",
       "      <th>April</th>\n",
       "      <td>14037</td>\n",
       "      <td>9209</td>\n",
       "      <td>7232</td>\n",
       "      <td>4220</td>\n",
       "    </tr>\n",
       "    <tr>\n",
       "      <th>May</th>\n",
       "      <td>12126</td>\n",
       "      <td>8864</td>\n",
       "      <td>6718</td>\n",
       "      <td>4980</td>\n",
       "    </tr>\n",
       "    <tr>\n",
       "      <th>June</th>\n",
       "      <td>12003</td>\n",
       "      <td>8065</td>\n",
       "      <td>5902</td>\n",
       "      <td>4781</td>\n",
       "    </tr>\n",
       "    <tr>\n",
       "      <th>July</th>\n",
       "      <td>11914</td>\n",
       "      <td>8061</td>\n",
       "      <td>6839</td>\n",
       "      <td>4344</td>\n",
       "    </tr>\n",
       "    <tr>\n",
       "      <th>August</th>\n",
       "      <td>11571</td>\n",
       "      <td>8191</td>\n",
       "      <td>7413</td>\n",
       "      <td>4104</td>\n",
       "    </tr>\n",
       "    <tr>\n",
       "      <th>September</th>\n",
       "      <td>14016</td>\n",
       "      <td>8447</td>\n",
       "      <td>6139</td>\n",
       "      <td>4094</td>\n",
       "    </tr>\n",
       "    <tr>\n",
       "      <th>October</th>\n",
       "      <td>11419</td>\n",
       "      <td>8476</td>\n",
       "      <td>5026</td>\n",
       "      <td>4389</td>\n",
       "    </tr>\n",
       "    <tr>\n",
       "      <th>November</th>\n",
       "      <td>13771</td>\n",
       "      <td>9034</td>\n",
       "      <td>5653</td>\n",
       "      <td>4099</td>\n",
       "    </tr>\n",
       "    <tr>\n",
       "      <th>December</th>\n",
       "      <td>14033</td>\n",
       "      <td>9232</td>\n",
       "      <td>6731</td>\n",
       "      <td>4367</td>\n",
       "    </tr>\n",
       "  </tbody>\n",
       "</table>\n",
       "</div>"
      ],
      "text/plain": [
       "                  Front-End Developer  Back-End Developer  \\\n",
       "job_posted_month                                            \n",
       "January                         13619                9827   \n",
       "February                        11456                9116   \n",
       "March                           11102                8178   \n",
       "April                           14037                9209   \n",
       "May                             12126                8864   \n",
       "June                            12003                8065   \n",
       "July                            11914                8061   \n",
       "August                          11571                8191   \n",
       "September                       14016                8447   \n",
       "October                         11419                8476   \n",
       "November                        13771                9034   \n",
       "December                        14033                9232   \n",
       "\n",
       "                  Full-Stack Developer  UI/UX Designer  \n",
       "job_posted_month                                        \n",
       "January                           5108            4348  \n",
       "February                          7298            4284  \n",
       "March                             5814            4159  \n",
       "April                             7232            4220  \n",
       "May                               6718            4980  \n",
       "June                              5902            4781  \n",
       "July                              6839            4344  \n",
       "August                            7413            4104  \n",
       "September                         6139            4094  \n",
       "October                           5026            4389  \n",
       "November                          5653            4099  \n",
       "December                          6731            4367  "
      ]
     },
     "execution_count": 9,
     "metadata": {},
     "output_type": "execute_result"
    }
   ],
   "source": [
    "df_us_software_pivot=pd.read_csv(\"F:\\Jupyter\\software_jobs.csv\",index_col='job_posted_month')\n",
    "df_us_software_pivot"
   ]
  },
  {
   "cell_type": "code",
   "execution_count": 11,
   "metadata": {},
   "outputs": [
    {
     "ename": "NameError",
     "evalue": "name 'df_usa_pivot' is not defined",
     "output_type": "error",
     "traceback": [
      "\u001b[1;31m---------------------------------------------------------------------------\u001b[0m",
      "\u001b[1;31mNameError\u001b[0m                                 Traceback (most recent call last)",
      "Cell \u001b[1;32mIn[11], line 1\u001b[0m\n\u001b[1;32m----> 1\u001b[0m df_usa_pivot\u001b[38;5;241m.\u001b[39mmerge(df_us_software_pivot,on\u001b[38;5;241m=\u001b[39m\u001b[38;5;124m'\u001b[39m\u001b[38;5;124mjob_posted_month\u001b[39m\u001b[38;5;124m'\u001b[39m)\n",
      "\u001b[1;31mNameError\u001b[0m: name 'df_usa_pivot' is not defined"
     ]
    }
   ],
   "source": [
    "df_usa_pivot.merge(df_us_software_pivot,on='job_posted_month')"
   ]
  },
  {
   "cell_type": "code",
   "execution_count": null,
   "metadata": {},
   "outputs": [],
   "source": []
  }
 ],
 "metadata": {
  "kernelspec": {
   "display_name": "base",
   "language": "python",
   "name": "python3"
  },
  "language_info": {
   "codemirror_mode": {
    "name": "ipython",
    "version": 3
   },
   "file_extension": ".py",
   "mimetype": "text/x-python",
   "name": "python",
   "nbconvert_exporter": "python",
   "pygments_lexer": "ipython3",
   "version": "3.12.4"
  }
 },
 "nbformat": 4,
 "nbformat_minor": 2
}
